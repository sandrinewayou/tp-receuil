{
 "cells": [
  {
   "cell_type": "code",
   "execution_count": 4,
   "id": "098f8392-7210-4e4f-b2ee-a24be8d74616",
   "metadata": {},
   "outputs": [],
   "source": [
    "from sympy import *\n",
    "import numpy as np\n",
    "import matplotlib.pyplot as plt\n",
    "from scipy.integrate import odeint\n",
    "\n",
    "N = 1000\n",
    "mu = 1\n",
    "Sigma = 1\n",
    "# Define variables \n",
    "x,r,p,q,l, h,m,n,s = symbols('x r p q l h m n s')\n"
   ]
  },
  {
   "cell_type": "code",
   "execution_count": 5,
   "id": "32f149eb-7aae-43aa-a883-e33b7d786ebf",
   "metadata": {},
   "outputs": [
    {
     "data": {
      "text/latex": [
       "$\\displaystyle x \\left(1 - x\\right) \\left(2 r \\left(1 - r\\right) \\left(\\frac{1}{2 l + 3} - \\frac{1}{2 h + 3}\\right) - \\frac{2 x \\left(p - r\\right)^{2}}{2 h + 3} + \\frac{2 \\cdot \\left(1 - x\\right) \\left(q - r\\right)^{2}}{2 l + 3} + \\frac{2 \\left(p - r\\right) \\left(q - r\\right) \\left(2 x - 1\\right)}{h + l + 3} + \\frac{\\left(2 l + 1\\right) \\left(q - r\\right) \\left(2 r - 1\\right)}{\\left(l + 1\\right) \\left(2 l + 3\\right)} - \\frac{\\left(2 h + 1\\right) \\left(p - r\\right) \\left(2 r - 1\\right)}{\\left(h + 1\\right) \\left(2 h + 3\\right)}\\right)$"
      ],
      "text/plain": [
       "x*(1 - x)*(2*r*(1 - r)*(1/(2*l + 3) - 1/(2*h + 3)) - 2*x*(p - r)**2/(2*h + 3) + 2*(1 - x)*(q - r)**2/(2*l + 3) + 2*(p - r)*(q - r)*(2*x - 1)/(h + l + 3) + (2*l + 1)*(q - r)*(2*r - 1)/((l + 1)*(2*l + 3)) - (2*h + 1)*(p - r)*(2*r - 1)/((h + 1)*(2*h + 3)))"
      ]
     },
     "execution_count": 5,
     "metadata": {},
     "output_type": "execute_result"
    }
   ],
   "source": [
    "#Fixation probability\n",
    "def G(x,r,p,q,l, h) :\n",
    "    return x*(1-x)*(((2*r-1)*(q-r)*(1+2*l))/((1+l)*(3+2*l))-((2*r-1)*(p-r)*(1+2*h))/((1+h)*(3+2*h))  + 2*(((1-x)*(q-r)**2)/(3+2*l) - (x*(p-r)**2)/(3+2*h) + ((2*x-1)*(q-r)*(p-r))/(3+l+h)+ r*(1-r)*(1/(3+2*l) - 1/(3+2*h))))\n",
    "\n",
    "# show result\n",
    "G(x,r,p,q,l, h)\n"
   ]
  },
  {
   "cell_type": "code",
   "execution_count": 6,
   "id": "d5461ba6-2496-4149-8fc9-9263b26592c9",
   "metadata": {},
   "outputs": [
    {
     "name": "stdout",
     "output_type": "stream",
     "text": [
      "x*(1 - x)*(4*r*(1 - r)/(2*h + 3)**2 + 4*x*(p - r)**2/(2*h + 3)**2 - 2*(p - r)*(q - r)*(2*x - 1)/(h + l + 3)**2 + 2*(2*h + 1)*(p - r)*(2*r - 1)/((h + 1)*(2*h + 3)**2) - 2*(p - r)*(2*r - 1)/((h + 1)*(2*h + 3)) + (2*h + 1)*(p - r)*(2*r - 1)/((h + 1)**2*(2*h + 3)))\n"
     ]
    }
   ],
   "source": [
    "dG_dh = diff(G(x,r,p,q,l, h), h)\n",
    "# Afficher le résultat\n",
    "print(dG_dh)"
   ]
  },
  {
   "cell_type": "code",
   "execution_count": 7,
   "id": "87cf191b-ecd0-43a7-87b1-17bf16c14577",
   "metadata": {},
   "outputs": [
    {
     "data": {
      "text/latex": [
       "$\\displaystyle x \\left(1 - x\\right) \\left(\\frac{4 r \\left(1 - r\\right)}{\\left(2 h + 3\\right)^{2}} + \\frac{4 x \\left(p - r\\right)^{2}}{\\left(2 h + 3\\right)^{2}} - \\frac{\\left(2 p - 2 r\\right) \\left(q - r\\right) \\left(2 x - 1\\right)}{\\left(h + l + 3\\right)^{2}} - \\frac{\\left(2 p - 2 r\\right) \\left(2 r - 1\\right)}{\\left(h + 1\\right) \\left(2 h + 3\\right)} + \\frac{\\left(4 h + 2\\right) \\left(p - r\\right) \\left(2 r - 1\\right)}{\\left(h + 1\\right) \\left(2 h + 3\\right)^{2}} + \\frac{\\left(2 h + 1\\right) \\left(p - r\\right) \\left(2 r - 1\\right)}{\\left(h + 1\\right)^{2} \\cdot \\left(2 h + 3\\right)}\\right)$"
      ],
      "text/plain": [
       "x*(1 - x)*(4*r*(1 - r)/(2*h + 3)**2 + 4*x*(p - r)**2/(2*h + 3)**2 - (2*p - 2*r)*(q - r)*(2*x - 1)/(h + l + 3)**2 - (2*p - 2*r)*(2*r - 1)/((h + 1)*(2*h + 3)) + (4*h + 2)*(p - r)*(2*r - 1)/((h + 1)*(2*h + 3)**2) + (2*h + 1)*(p - r)*(2*r - 1)/((h + 1)**2*(2*h + 3)))"
      ]
     },
     "execution_count": 7,
     "metadata": {},
     "output_type": "execute_result"
    }
   ],
   "source": [
    "\n",
    "def DG(x,r,p,q,l, h) :\n",
    "    return x*(1 - x)*(4*r*(1 - r)/(2*h + 3)**2 + 4*x*(p - r)**2/(2*h + 3)**2 - 2*(p - r)*(q - r)*(2*x - 1)/(h + l + 3)**2 + 2*(2*h + 1)*(p - r)*(2*r - 1)/((h + 1)*(2*h + 3)**2) - 2*(p - r)*(2*r - 1)/((h + 1)*(2*h + 3)) + (2*h + 1)*(p - r)*(2*r - 1)/((h + 1)**2*(2*h + 3)))\n",
    "DG(x,r,p,q,l, h)"
   ]
  },
  {
   "cell_type": "code",
   "execution_count": 8,
   "id": "ae65fa28-d9b4-4bdb-89b6-c44e6d03d3b8",
   "metadata": {},
   "outputs": [
    {
     "data": {
      "text/latex": [
       "$\\displaystyle \\frac{0.0396 r \\left(1 - r\\right)}{\\left(2 h + 3\\right)^{2}} + \\frac{0.000396 \\left(p - r\\right)^{2}}{\\left(2 h + 3\\right)^{2}} + \\frac{0.009702 \\left(p - r\\right) \\left(2 p - 2 r\\right)}{\\left(2 h + 3\\right)^{2}} - \\frac{0.0099 \\cdot \\left(2 p - 2 r\\right) \\left(2 r - 1\\right)}{\\left(h + 1\\right) \\left(2 h + 3\\right)} + \\frac{0.0099 \\cdot \\left(4 h + 2\\right) \\left(p - r\\right) \\left(2 r - 1\\right)}{\\left(h + 1\\right) \\left(2 h + 3\\right)^{2}} + \\frac{0.0099 \\cdot \\left(2 h + 1\\right) \\left(p - r\\right) \\left(2 r - 1\\right)}{\\left(h + 1\\right)^{2} \\cdot \\left(2 h + 3\\right)}$"
      ],
      "text/plain": [
       "0.0396*r*(1 - r)/(2*h + 3)**2 + 0.000396*(p - r)**2/(2*h + 3)**2 + 0.009702*(p - r)*(2*p - 2*r)/(2*h + 3)**2 - 0.0099*(2*p - 2*r)*(2*r - 1)/((h + 1)*(2*h + 3)) + 0.0099*(4*h + 2)*(p - r)*(2*r - 1)/((h + 1)*(2*h + 3)**2) + 0.0099*(2*h + 1)*(p - r)*(2*r - 1)/((h + 1)**2*(2*h + 3))"
      ]
     },
     "execution_count": 8,
     "metadata": {},
     "output_type": "execute_result"
    }
   ],
   "source": [
    "F=DG(0.01,r,p,p,h, h)\n",
    "F"
   ]
  },
  {
   "cell_type": "code",
   "execution_count": 9,
   "id": "6b69d4c5-ca99-4983-9f9b-531901ef0916",
   "metadata": {},
   "outputs": [
    {
     "data": {
      "text/latex": [
       "$\\displaystyle \\frac{0.0396 r \\left(1 - r\\right)}{\\left(2 h + 3\\right)^{2}} + \\frac{\\left(0.0198 h + 0.0099\\right) \\left(p - r\\right) \\left(2 r - 1\\right)}{\\left(h + 1\\right)^{2} \\cdot \\left(2 h + 3\\right)} + \\frac{\\left(0.0396 h + 0.0198\\right) \\left(p - r\\right) \\left(2 r - 1\\right)}{\\left(h + 1\\right) \\left(2 h + 3\\right)^{2}} - \\frac{\\left(0.0198 p - 0.0198 r\\right) \\left(0.98 r - 0.49\\right)}{\\left(2 h + 3\\right)^{2}} + \\frac{0.000396 \\left(p - r\\right)^{2}}{\\left(2 h + 3\\right)^{2}} - \\frac{\\left(0.0198 p - 0.0198 r\\right) \\left(2 r - 1\\right)}{\\left(h + 1\\right) \\left(2 h + 3\\right)}$"
      ],
      "text/plain": [
       "0.0396*r*(1 - r)/(2*h + 3)**2 + (0.0198*h + 0.0099)*(p - r)*(2*r - 1)/((h + 1)**2*(2*h + 3)) + (0.0396*h + 0.0198)*(p - r)*(2*r - 1)/((h + 1)*(2*h + 3)**2) - (0.0198*p - 0.0198*r)*(0.98*r - 0.49)/(2*h + 3)**2 + 0.000396*(p - r)**2/(2*h + 3)**2 - (0.0198*p - 0.0198*r)*(2*r - 1)/((h + 1)*(2*h + 3))"
      ]
     },
     "execution_count": 9,
     "metadata": {},
     "output_type": "execute_result"
    }
   ],
   "source": [
    "# Définir l'équation\n",
    "E = 0.0396*r*(1 - r)/(2*h + 3)**2 - 0.0198*(p - r)*(0.98*r - 0.49)/(h + h + 3)**2 + 0.000396*(p - r)**2/(2*h + 3)**2 + 0.0198*(2*h + 1)*(p - r)*(2*r - 1)/((h + 1)*(2*h + 3)**2) - 0.0198*(p - r)*(2*r - 1)/((h + 1)*(2*h + 3))+ 0.0099*(2*h + 1)*(p - r)*(2*r - 1)/((h + 1)**2*(2*h + 3))\n",
    "equationE =F\n",
    "# Résoudre l'équation\n",
    "solutionsE = solve(equationE, h)\n",
    "\n",
    "# Afficher les solutions\n",
    "solutionsE\n",
    "E"
   ]
  },
  {
   "cell_type": "code",
   "execution_count": 10,
   "id": "2ded3cde-877d-453c-9e96-02c11fda547e",
   "metadata": {},
   "outputs": [
    {
     "name": "stderr",
     "output_type": "stream",
     "text": [
      "/tmp/ipykernel_6274/2014804876.py:3: RuntimeWarning: invalid value encountered in sqrt\n",
      "  return (-2.0*p**2 - 98.0*p*r + 51.0*p + 300.0*r**2 - 251.0*r - 412.431812546026*np.sqrt(0.00117577895355673*p**3*r - 0.000587889476778366*p**3 + 0.409171075837742*p**2*r**2 - 0.410934744268078*p**2*r + 0.103174603174603*p**2 - 0.939447383891828*p*r**3 + p*r**2 - 0.265138154027043*p*r + 0.529100529100529*r**4 - 0.588477366255144*r**3 + 0.16196355085244*r**2))/(2.0*p**2 + 298.0*p*r - 151.0*p - 500.0*r**2 + 351.0*r)\n",
      "/tmp/ipykernel_6274/2014804876.py:3: RuntimeWarning: invalid value encountered in true_divide\n",
      "  return (-2.0*p**2 - 98.0*p*r + 51.0*p + 300.0*r**2 - 251.0*r - 412.431812546026*np.sqrt(0.00117577895355673*p**3*r - 0.000587889476778366*p**3 + 0.409171075837742*p**2*r**2 - 0.410934744268078*p**2*r + 0.103174603174603*p**2 - 0.939447383891828*p*r**3 + p*r**2 - 0.265138154027043*p*r + 0.529100529100529*r**4 - 0.588477366255144*r**3 + 0.16196355085244*r**2))/(2.0*p**2 + 298.0*p*r - 151.0*p - 500.0*r**2 + 351.0*r)\n"
     ]
    },
    {
     "data": {
      "image/png": "[encoded data removed]",
      "text/plain": [
       "<Figure size 432x288 with 2 Axes>"
      ]
     },
     "metadata": {
      "needs_background": "light"
     },
     "output_type": "display_data"
    }
   ],
   "source": [
    "\n",
    "# Fonction à tracer first solution\n",
    "def f(p, r):\n",
    "    return (-2.0*p**2 - 98.0*p*r + 51.0*p + 300.0*r**2 - 251.0*r - 412.431812546026*np.sqrt(0.00117577895355673*p**3*r - 0.000587889476778366*p**3 + 0.409171075837742*p**2*r**2 - 0.410934744268078*p**2*r + 0.103174603174603*p**2 - 0.939447383891828*p*r**3 + p*r**2 - 0.265138154027043*p*r + 0.529100529100529*r**4 - 0.588477366255144*r**3 + 0.16196355085244*r**2))/(2.0*p**2 + 298.0*p*r - 151.0*p - 500.0*r**2 + 351.0*r)\n",
    "\n",
    "# Plage de valeurs pour les variables h et l\n",
    "P_vals = np.linspace(0, 1, 10)\n",
    "R_vals = np.linspace(0, 1, 20)\n",
    "\n",
    "# Création d'une grille pour les valeurs de h et l\n",
    "P_grid1, R_grid1 = np.meshgrid(P_vals, R_vals)\n",
    "\n",
    "# Calcul de la fonction f pour chaque paire (h, l) dans la grille\n",
    "f_grid1 = f(P_grid1, R_grid1)\n",
    "f_grid_POS1 = np.ma.masked_less_equal(f_grid1, 0)\n",
    "\n",
    "\n",
    "# Tracé de la fonction en utilisant une carte de couleurs\n",
    "plt.contourf(P_grid1, R_grid1, f_grid_POS1, levels=20, cmap='coolwarm')\n",
    "plt.colorbar()\n",
    "plt.xlabel('P')\n",
    "plt.ylabel('R')\n",
    "plt.title('Theta_l')\n",
    "plt.show()"
   ]
  },
  {
   "cell_type": "code",
   "execution_count": 11,
   "id": "0bc443fe-46f7-48c3-afd4-28b43be7593b",
   "metadata": {},
   "outputs": [],
   "source": [
    "# x = 0.01 , q= r equal to 0, 0.05, 0.1, 0.15, ..., 1,   p  in 0, 0.1, 0.2, 0.3 ,... 1\n",
    "\n",
    "p, r = symbols('p r')\n",
    "def f(p, r):\n",
    "    return  0.0198000000000000*(r - 1)*r*(1/(2*h + 3) - 1/(2*l + 3)) - 0.000198000000000000*(p - r)**2/(2*h + 3) - 0.00990000000000000*(2*h + 1)*(p - r)*(2*r - 1)/((2*h + 3)*(h + 1))\n",
    "\n"
   ]
  },
  {
   "cell_type": "code",
   "execution_count": 12,
   "id": "0310631f-27fe-428e-bc4f-13081bf16104",
   "metadata": {},
   "outputs": [
    {
     "name": "stdout",
     "output_type": "stream",
     "text": [
      "-2*r*(0.0198*r - 0.0198)/(2*h + 3)**2 + 2*(0.0198*h + 0.0099)*(p - r)*(2*r - 1)/((h + 1)*(2*h + 3)**2) + (0.0198*h + 0.0099)*(p - r)*(2*r - 1)/((h + 1)**2*(2*h + 3)) + 0.000396*(p - r)**2/(2*h + 3)**2 - 0.0198*(p - r)*(2*r - 1)/((h + 1)*(2*h + 3))\n"
     ]
    }
   ],
   "source": [
    "g = 0.0198000000000000*(r - 1)*r*(1/(2*h + 3) - 1/(2*l + 3)) - 0.000198000000000000*(p - r)**2/(2*h + 3) - 0.00990000000000000*(2*h + 1)*(p - r)*(2*r - 1)/((2*h + 3)*(h + 1))\n",
    "\n",
    "dg_dh = diff(g, h)\n",
    "\n",
    "print(dg_dh)"
   ]
  },
  {
   "cell_type": "code",
   "execution_count": 13,
   "id": "8e4fd557-688f-4260-ba50-9f994a74ffc7",
   "metadata": {},
   "outputs": [
    {
     "name": "stdout",
     "output_type": "stream",
     "text": [
      "[(-p**2 - 98.0*p*r + 50.0*p + 199.0*r**2 - 150.0*r - 217.772817403826*sqrt(0.00105429625724829*p**3*r - 0.000527148128624143*p**3 + 0.41855561412757*p**2*r**2 - 0.420137058513442*p**2*r + 0.105429625724829*p**2 - 0.945703742751713*p*r**3 + p*r**2 - 0.263574064312072*p*r + 0.526093832366895*r**4 - 0.579335793357934*r**3 + 0.158144438587243*r**2))/(p**2 + 198.0*p*r - 100.0*p - 299.0*r**2 + 200.0*r), (-p**2 - 98.0*p*r + 50.0*p + 199.0*r**2 - 150.0*r + 217.772817403826*sqrt(0.00105429625724829*p**3*r - 0.000527148128624143*p**3 + 0.41855561412757*p**2*r**2 - 0.420137058513442*p**2*r + 0.105429625724829*p**2 - 0.945703742751713*p*r**3 + p*r**2 - 0.263574064312072*p*r + 0.526093832366895*r**4 - 0.579335793357934*r**3 + 0.158144438587243*r**2))/(p**2 + 198.0*p*r - 100.0*p - 299.0*r**2 + 200.0*r)]\n"
     ]
    }
   ],
   "source": [
    "# Définir l'équation\n",
    "equationg =dg_dh\n",
    "# Résoudre l'équation\n",
    "solutionsg = solve(equationg, h)\n",
    "\n",
    "# Afficher les solutions\n",
    "print(solutionsg)"
   ]
  },
  {
   "cell_type": "code",
   "execution_count": 14,
   "id": "de51603c-4edb-4e13-a31b-29af38d75a9c",
   "metadata": {},
   "outputs": [
    {
     "name": "stderr",
     "output_type": "stream",
     "text": [
      "/tmp/ipykernel_6274/3649565050.py:5: RuntimeWarning: invalid value encountered in sqrt\n",
      "  return (-p**2 - 98.0*p*r + 50.0*p + 199.0*r**2 - 150.0*r - 217.772817403826*np.sqrt(0.00105429625724829*p**3*r - 0.000527148128624143*p**3 + 0.41855561412757*p**2*r**2 - 0.420137058513442*p**2*r + 0.105429625724829*p**2 - 0.945703742751713*p*r**3 + p*r**2 - 0.263574064312072*p*r + 0.526093832366895*r**4 - 0.579335793357934*r**3 + 0.158144438587243*r**2)) / (p**2 + 198.0*p*r - 100.0*p - 299.0*r**2 + 200.0*r)\n",
      "/tmp/ipykernel_6274/3649565050.py:5: RuntimeWarning: divide by zero encountered in true_divide\n",
      "  return (-p**2 - 98.0*p*r + 50.0*p + 199.0*r**2 - 150.0*r - 217.772817403826*np.sqrt(0.00105429625724829*p**3*r - 0.000527148128624143*p**3 + 0.41855561412757*p**2*r**2 - 0.420137058513442*p**2*r + 0.105429625724829*p**2 - 0.945703742751713*p*r**3 + p*r**2 - 0.263574064312072*p*r + 0.526093832366895*r**4 - 0.579335793357934*r**3 + 0.158144438587243*r**2)) / (p**2 + 198.0*p*r - 100.0*p - 299.0*r**2 + 200.0*r)\n",
      "/tmp/ipykernel_6274/3649565050.py:5: RuntimeWarning: invalid value encountered in true_divide\n",
      "  return (-p**2 - 98.0*p*r + 50.0*p + 199.0*r**2 - 150.0*r - 217.772817403826*np.sqrt(0.00105429625724829*p**3*r - 0.000527148128624143*p**3 + 0.41855561412757*p**2*r**2 - 0.420137058513442*p**2*r + 0.105429625724829*p**2 - 0.945703742751713*p*r**3 + p*r**2 - 0.263574064312072*p*r + 0.526093832366895*r**4 - 0.579335793357934*r**3 + 0.158144438587243*r**2)) / (p**2 + 198.0*p*r - 100.0*p - 299.0*r**2 + 200.0*r)\n"
     ]
    },
    {
     "data": {
      "image/png": "[encoded data removed]",
      "text/plain": [
       "<Figure size 432x288 with 2 Axes>"
      ]
     },
     "metadata": {
      "needs_background": "light"
     },
     "output_type": "display_data"
    }
   ],
   "source": [
    "import matplotlib.pyplot as plt\n",
    "import numpy as np\n",
    "\n",
    "def f(p, r):\n",
    "    return (-p**2 - 98.0*p*r + 50.0*p + 199.0*r**2 - 150.0*r - 217.772817403826*np.sqrt(0.00105429625724829*p**3*r - 0.000527148128624143*p**3 + 0.41855561412757*p**2*r**2 - 0.420137058513442*p**2*r + 0.105429625724829*p**2 - 0.945703742751713*p*r**3 + p*r**2 - 0.263574064312072*p*r + 0.526093832366895*r**4 - 0.579335793357934*r**3 + 0.158144438587243*r**2)) / (p**2 + 198.0*p*r - 100.0*p - 299.0*r**2 + 200.0*r)\n",
    "\n",
    "\n",
    "# Plage de valeurs pour les variables h et l\n",
    "P_vals = np.linspace(0, 1, 10)\n",
    "R_vals = np.linspace(0, 1, 20)\n",
    "\n",
    "# Création d'une grille pour les valeurs de h et l\n",
    "P_grid, R_grid = np.meshgrid(P_vals, R_vals)\n",
    "\n",
    "# Calcul de la fonction f pour chaque paire (h, l) dans la grille\n",
    "f_grid = f(P_grid, R_grid)\n",
    "f_grid_POS = np.ma.masked_less_equal(f_grid, 0)\n",
    "\n",
    "\n",
    "# Tracé de la fonction en utilisant une carte de couleurs\n",
    "plt.contourf(P_grid, R_grid, f_grid_POS, levels=20, cmap='coolwarm')\n",
    "plt.colorbar()\n",
    "plt.xlabel('P')\n",
    "plt.ylabel('R')\n",
    "plt.title('Theta_l')\n",
    "plt.show()"
   ]
  },
  {
   "cell_type": "code",
   "execution_count": 15,
   "id": "02adf115-8f9f-41c2-961c-9ba80836cb5b",
   "metadata": {},
   "outputs": [
    {
     "data": {
      "image/png": "[encoded data removed]",
      "text/plain": [
       "<Figure size 432x288 with 2 Axes>"
      ]
     },
     "metadata": {
      "needs_background": "light"
     },
     "output_type": "display_data"
    }
   ],
   "source": [
    "\n",
    "import numpy as np\n",
    "import matplotlib.pyplot as plt\n",
    "\n",
    "\n",
    "\n",
    "def g(x,s,h,r):\n",
    "    return  2*s**2*x*(1-x)*(1-2*x)+h*(1-r)*(1-x)-h*x*r\n",
    "# Fonction à tracer first solution\n",
    "def fa(x, h):\n",
    "    return g(x,0.1,h,0.75)\n",
    "# Plage de valeurs pour les variables h et l\n",
    "x_vals = np.linspace(0, 1, 10)\n",
    "h_vals = np.linspace(0, 10, 20)\n",
    "\n",
    "# Création d'une grille pour les valeurs de h et l\n",
    "x_grid, h_grid = np.meshgrid(x_vals, h_vals)\n",
    "\n",
    "# Calcul de la fonction f pour chaque paire (h, l) dans la grille\n",
    "fa_grid = fa(x_grid, h_grid)\n",
    "#fa_grid_POS = np.ma.masked_less_equal(f_grid, 0)\n",
    "\n",
    "\n",
    "# Tracé de la fonction en utilisant une carte de couleurs\n",
    "plt.contourf(x_grid, h_grid, fa_grid, levels=20, cmap='coolwarm')\n",
    "plt.colorbar()\n",
    "plt.xlabel('x')\n",
    "plt.ylabel('h')\n",
    "plt.title('b')\n",
    "plt.show()"
   ]
  },
  {
   "cell_type": "code",
   "execution_count": 16,
   "id": "144dce1c-0cd9-4fd6-99ff-2c009e4e621c",
   "metadata": {},
   "outputs": [
    {
     "data": {
      "text/latex": [
       "$\\displaystyle 0$"
      ],
      "text/plain": [
       "0"
      ]
     },
     "execution_count": 16,
     "metadata": {},
     "output_type": "execute_result"
    }
   ],
   "source": [
    "from sympy import symbols, nsolve\n",
    "\n",
    "# Déclaration des variables symboliques\n",
    "s, x, h, r = symbols('s x h r')\n",
    "\n",
    "# Définition de l'équation\n",
    "equation = g(x,0.1,0,0.5)\n",
    "# Résolution de l'équation\n",
    "solutions = nsolve(equation, x,0)\n",
    "\n",
    "# Filtrage des solutions en conservant uniquement celles qui satisfont h > 0\n",
    "#solutions_filtered = [sol for sol in solutions if h > 0]\n",
    "\n",
    "# Affichage des solutions\n",
    "solutions\n"
   ]
  },
  {
   "cell_type": "code",
   "execution_count": 17,
   "id": "96abd035-a677-47ab-9310-5e7ed6008262",
   "metadata": {},
   "outputs": [],
   "source": [
    "h_values = np.linspace(0, 10, 100)\n",
    "\n",
    "#r=0.1\n",
    "DataPointsDomainh1 = [0,0.1,0.2,1]\n",
    "DataPointsRangex1 =  [0,0.884270055205874,0.892467016257308,0.898546731179614]\n",
    "\n",
    "\n",
    "#r=0.5\n",
    "DataPointsDomainh2 = [0,0.1,0.2,1]\n",
    "DataPointsRangex2 =  [0,0.5,0.5,0.5]\n",
    "\n",
    "\n",
    "#r=0.75\n",
    "DataPointsDomainh3 = [0,0.01,0.02,0.1,0.2,1,10,15,20]\n",
    "DataPointsRangex3 =  [1,0.370673988747924,0.32635182233307,0.268198106681628,0.259246748415128,0.251870219780548,0.250187453031353,0.250124979138909,0.250093738269538]\n",
    "\n",
    "\n",
    "#r=0.85\n",
    "DataPointsDomainh4 = [0,0.01,0.02,0.1,0.2,1]\n",
    "DataPointsRangex4=  [0,0.311632588980728,0.244402354450922,0.168580862183512,0.159122045419917,0.151793293642916]\n",
    "\n",
    "\n",
    "#r=0.9\n",
    "DataPointsDomainh5 = [0,0.01,0.02,0.1,0.2,1]\n",
    "DataPointsRangex5 =  [0,0.278167353930166,0.195800105659092,0.115729944794126,0.107532983742692,0.101453268820386]"
   ]
  },
  {
   "cell_type": "code",
   "execution_count": 18,
   "id": "35276459-cc20-4cb7-acb2-47008326edc8",
   "metadata": {},
   "outputs": [
    {
     "name": "stdout",
     "output_type": "stream",
     "text": [
      "-0.0198*(0.49 - 0.98*m)*(m - 0.5)/(h + l + 3)**2 + 0.000396*(m - 0.5)**2/(2*h + 3)**2 + 0.0099/(2*h + 3)**2\n"
     ]
    }
   ],
   "source": [
    "#r=0.5\n",
    "XHm5 = G(0.01, 0.5, m,m, l, h)\n",
    "\n",
    "dXHm5_dh = diff(XHm5, h)\n",
    "# Afficher le résultat\n",
    "print(dXHm5_dh)"
   ]
  },
  {
   "cell_type": "code",
   "execution_count": 19,
   "id": "b4385f00-8727-42fc-9222-f8eaa75fcabb",
   "metadata": {},
   "outputs": [
    {
     "name": "stdout",
     "output_type": "stream",
     "text": [
      "(0.019404*m - 0.009702)*(m - 0.5)/(2*l + 3)**2 + 0.000396*(m - 0.5)**2/(2*l + 3)**2 + 0.0099/(2*l + 3)**2\n"
     ]
    }
   ],
   "source": [
    "def DXHm5_dh(h,l):\n",
    "    return -0.0198*(0.49 - 0.98*m)*(m - 0.5)/(h + l + 3)**2 + 0.000396*(m - 0.5)**2/(2*h + 3)**2 + 0.0099/(2*h + 3)**2\n",
    "\n",
    "dfm5 = DXHm5_dh(l,l)\n",
    "print(dfm5)"
   ]
  },
  {
   "cell_type": "code",
   "execution_count": 20,
   "id": "11863e28-35dd-4030-abff-3d3d89446326",
   "metadata": {},
   "outputs": [
    {
     "data": {
      "image/png": "[encoded data removed]",
      "text/plain": [
       "<Figure size 432x288 with 1 Axes>"
      ]
     },
     "metadata": {
      "needs_background": "light"
     },
     "output_type": "display_data"
    }
   ],
   "source": [
    "# Define the differential equation #r=0.5\n",
    "def equation(l, t):\n",
    "    m=np.interp(l, DataPointsDomainh2, DataPointsRangex2, left=None, right=None, period=None)\n",
    "    # Define the derivative dy/dt\n",
    "    dldt = 1/2 *N* ((0.019404*m - 0.009702)*(m - 0.5)/(2*l + 3)**2 + 0.000396*(m - 0.5)**2/(2*l + 3)**2 + 0.0099/(2*l + 3)**2)\n",
    "    return dldt\n",
    "\n",
    "# Define the initial condition\n",
    "l0 = 0\n",
    "\n",
    "# Define the time points for the solution\n",
    "t = np.linspace(0, 1000, 100)\n",
    "\n",
    "# Solve the differential equation\n",
    "sol51 = odeint(equation, l0, t)\n",
    "\n",
    "# Plot the solution\n",
    "plt.plot(t, sol51)\n",
    "plt.xlabel('Time')\n",
    "plt.ylabel('l(t)')\n",
    "plt.title('Solution of the first-order differential equation')\n",
    "plt.grid(True)\n",
    "plt.show()"
   ]
  },
  {
   "cell_type": "code",
   "execution_count": 21,
   "id": "144fb3ad-777b-4598-a2fc-cfb6033ece24",
   "metadata": {},
   "outputs": [
    {
     "name": "stdout",
     "output_type": "stream",
     "text": [
      "-0.0198*(0.735 - 0.98*m)*(m - 0.75)/(h + l + 3)**2 + 0.000396*(m - 0.75)**2/(2*h + 3)**2 + 0.007425/(2*h + 3)**2 + 0.0198*(2*h + 1)*(0.5*m - 0.375)/((h + 1)*(2*h + 3)**2) - 0.0198*(0.5*m - 0.375)/((h + 1)*(2*h + 3)) + 0.0099*(2*h + 1)*(0.5*m - 0.375)/((h + 1)**2*(2*h + 3))\n"
     ]
    }
   ],
   "source": [
    "#r=0.75\n",
    "XHm75 = G(0.01, 0.75, m,m, l, h)\n",
    "\n",
    "dXHm75_dh = diff(XHm75, h)\n",
    "# Afficher le résultat\n",
    "print(dXHm75_dh)"
   ]
  },
  {
   "cell_type": "code",
   "execution_count": 22,
   "id": "b59136e6-58e3-43fa-aa07-e75089832d4f",
   "metadata": {},
   "outputs": [
    {
     "name": "stdout",
     "output_type": "stream",
     "text": [
      "(0.0198*l + 0.0099)*(0.5*m - 0.375)/((l + 1)**2*(2*l + 3)) + (0.0396*l + 0.0198)*(0.5*m - 0.375)/((l + 1)*(2*l + 3)**2) + (0.019404*m - 0.014553)*(m - 0.75)/(2*l + 3)**2 + 0.000396*(m - 0.75)**2/(2*l + 3)**2 + 0.007425/(2*l + 3)**2 - (0.0099*m - 0.007425)/((l + 1)*(2*l + 3))\n"
     ]
    }
   ],
   "source": [
    "def DXHm75_dh(h,l):\n",
    "    return -0.0198*(0.735 - 0.98*m)*(m - 0.75)/(h + l + 3)**2 + 0.000396*(m - 0.75)**2/(2*h + 3)**2 + 0.007425/(2*h + 3)**2 + 0.0198*(2*h + 1)*(0.5*m - 0.375)/((h + 1)*(2*h + 3)**2) - 0.0198*(0.5*m - 0.375)/((h + 1)*(2*h + 3)) + 0.0099*(2*h + 1)*(0.5*m - 0.375)/((h + 1)**2*(2*h + 3))\n",
    "\n",
    "dfm75 = DXHm75_dh(l,l)\n",
    "print(dfm75)"
   ]
  },
  {
   "cell_type": "code",
   "execution_count": 23,
   "id": "5a95a177-870b-459d-94b2-a8303d8e572f",
   "metadata": {},
   "outputs": [
    {
     "data": {
      "image/png": "[encoded data removed]",
      "text/plain": [
       "<Figure size 432x288 with 1 Axes>"
      ]
     },
     "metadata": {
      "needs_background": "light"
     },
     "output_type": "display_data"
    }
   ],
   "source": [
    "# Define the differential equation #r=0.75\n",
    "def equation(l, t):\n",
    "    m=np.interp(l, DataPointsDomainh3, DataPointsRangex3, left=None, right=None, period=None)\n",
    "    # Define the derivative dy/dt\n",
    "    dldt = 1/2 *N* ((0.0198*l + 0.0099)*(0.5*m - 0.375)/((l + 1)**2*(2*l + 3)) + (0.0396*l + 0.0198)*(0.5*m - 0.375)/((l + 1)*(2*l + 3)**2) + (0.019404*m - 0.014553)*(m - 0.75)/(2*l + 3)**2 + 0.000396*(m - 0.75)**2/(2*l + 3)**2 + 0.007425/(2*l + 3)**2 - (0.0099*m - 0.007425)/((l + 1)*(2*l + 3)))\n",
    "    return dldt\n",
    "\n",
    "# Define the initial condition\n",
    "l0 = 0\n",
    "\n",
    "# Define the time points for the solution\n",
    "t = np.linspace(0, 1000, 100)\n",
    "\n",
    "# Solve the differential equation\n",
    "sol71 = odeint(equation, l0, t)\n",
    "\n",
    "# Plot the solution\n",
    "plt.plot(t, sol71)\n",
    "plt.xlabel('Time')\n",
    "plt.ylabel('l(t)')\n",
    "plt.title('Solution of the first-order differential equation')\n",
    "plt.grid(True)\n",
    "plt.show()"
   ]
  },
  {
   "cell_type": "code",
   "execution_count": 24,
   "id": "a290baa0-655d-43f1-bdc9-35cf55576046",
   "metadata": {},
   "outputs": [
    {
     "name": "stdout",
     "output_type": "stream",
     "text": [
      "-0.0198*(0.833 - 0.98*m)*(m - 0.85)/(h + l + 3)**2 + 0.000396*(m - 0.85)**2/(2*h + 3)**2 + 0.005049/(2*h + 3)**2 + 0.0198*(2*h + 1)*(0.7*m - 0.595)/((h + 1)*(2*h + 3)**2) - 0.0198*(0.7*m - 0.595)/((h + 1)*(2*h + 3)) + 0.0099*(2*h + 1)*(0.7*m - 0.595)/((h + 1)**2*(2*h + 3))\n"
     ]
    }
   ],
   "source": [
    "\n",
    " #r=0.85\n",
    "XHm85 = G(0.01, 0.85, m,m, l, h)\n",
    "\n",
    "dXHm85_dh = diff(XHm85, h)\n",
    "# Afficher le résultat\n",
    "print(dXHm85_dh)"
   ]
  },
  {
   "cell_type": "code",
   "execution_count": 25,
   "id": "a262abd9-1107-4128-8312-28ae718d4c15",
   "metadata": {},
   "outputs": [
    {
     "name": "stdout",
     "output_type": "stream",
     "text": [
      "(0.0198*l + 0.0099)*(0.7*m - 0.595)/((l + 1)**2*(2*l + 3)) + (0.0396*l + 0.0198)*(0.7*m - 0.595)/((l + 1)*(2*l + 3)**2) + (0.019404*m - 0.0164934)*(m - 0.85)/(2*l + 3)**2 + 0.000396*(m - 0.85)**2/(2*l + 3)**2 + 0.005049/(2*l + 3)**2 - (0.01386*m - 0.011781)/((l + 1)*(2*l + 3))\n"
     ]
    }
   ],
   "source": [
    "def DXHm85_dh(h,l):\n",
    "    return -0.0198*(0.833 - 0.98*m)*(m - 0.85)/(h + l + 3)**2 + 0.000396*(m - 0.85)**2/(2*h + 3)**2 + 0.005049/(2*h + 3)**2 + 0.0198*(2*h + 1)*(0.7*m - 0.595)/((h + 1)*(2*h + 3)**2) - 0.0198*(0.7*m - 0.595)/((h + 1)*(2*h + 3)) + 0.0099*(2*h + 1)*(0.7*m - 0.595)/((h + 1)**2*(2*h + 3))\n",
    "\n",
    "dfm85 = DXHm85_dh(l,l)\n",
    "print(dfm85)"
   ]
  },
  {
   "cell_type": "code",
   "execution_count": 26,
   "id": "09713c48-a926-4e91-8719-d77910865789",
   "metadata": {},
   "outputs": [
    {
     "data": {
      "image/png": "[encoded data removed]",
      "text/plain": [
       "<Figure size 432x288 with 1 Axes>"
      ]
     },
     "metadata": {
      "needs_background": "light"
     },
     "output_type": "display_data"
    }
   ],
   "source": [
    "\n",
    "# Define the differential equation  #r=0.85\n",
    "def equation(l, t):\n",
    "    m=np.interp(l, DataPointsDomainh4, DataPointsRangex4, left=None, right=None, period=None)\n",
    "    # Define the derivative dy/dt\n",
    "    dldt = 1/2 *N* ((0.0198*l + 0.0099)*(0.7*m - 0.595)/((l + 1)**2*(2*l + 3)) + (0.0396*l + 0.0198)*(0.7*m - 0.595)/((l + 1)*(2*l + 3)**2) + (0.019404*m - 0.0164934)*(m - 0.85)/(2*l + 3)**2 + 0.000396*(m - 0.85)**2/(2*l + 3)**2 + 0.005049/(2*l + 3)**2 - (0.01386*m - 0.011781)/((l + 1)*(2*l + 3)))\n",
    "    return dldt\n",
    "\n",
    "# Define the initial condition\n",
    "l0 = 0\n",
    "\n",
    "# Define the time points for the solution\n",
    "t = np.linspace(0, 1000, 100)\n",
    "\n",
    "# Solve the differential equation\n",
    "sol81 = odeint(equation, l0, t)\n",
    "\n",
    "# Plot the solution\n",
    "plt.plot(t, sol81)\n",
    "plt.xlabel('Time')\n",
    "plt.ylabel('l(t)')\n",
    "plt.title('Solution of the first-order differential equation')\n",
    "plt.grid(True)\n",
    "plt.show()"
   ]
  },
  {
   "cell_type": "code",
   "execution_count": 27,
   "id": "1f2b83c9-d769-41a2-8443-6e1fa8133d33",
   "metadata": {},
   "outputs": [
    {
     "ename": "NameError",
     "evalue": "name 'sol91' is not defined",
     "output_type": "error",
     "traceback": [
      "\u001b[0;31m---------------------------------------------------------------------------\u001b[0m",
      "\u001b[0;31mNameError\u001b[0m                                 Traceback (most recent call last)",
      "Input \u001b[0;32mIn [27]\u001b[0m, in \u001b[0;36m<cell line: 6>\u001b[0;34m()\u001b[0m\n\u001b[1;32m      1\u001b[0m t \u001b[38;5;241m=\u001b[39m np\u001b[38;5;241m.\u001b[39mlinspace(\u001b[38;5;241m0\u001b[39m, \u001b[38;5;241m200\u001b[39m, \u001b[38;5;241m100\u001b[39m)\n\u001b[1;32m      4\u001b[0m \u001b[38;5;66;03m# Tracé des fonctions\u001b[39;00m\n\u001b[0;32m----> 6\u001b[0m plt\u001b[38;5;241m.\u001b[39mplot(t, \u001b[43msol91\u001b[49m, label\u001b[38;5;241m=\u001b[39m\u001b[38;5;124m'\u001b[39m\u001b[38;5;124m$r=0.9$\u001b[39m\u001b[38;5;124m'\u001b[39m, color\u001b[38;5;241m=\u001b[39m\u001b[38;5;124m'\u001b[39m\u001b[38;5;124mred\u001b[39m\u001b[38;5;124m'\u001b[39m)\n\u001b[1;32m      7\u001b[0m plt\u001b[38;5;241m.\u001b[39mplot(t, sol81, label\u001b[38;5;241m=\u001b[39m\u001b[38;5;124m'\u001b[39m\u001b[38;5;124m$r=0.85$\u001b[39m\u001b[38;5;124m'\u001b[39m, color\u001b[38;5;241m=\u001b[39m\u001b[38;5;124m'\u001b[39m\u001b[38;5;124mgreen\u001b[39m\u001b[38;5;124m'\u001b[39m)\n\u001b[1;32m      8\u001b[0m plt\u001b[38;5;241m.\u001b[39mplot(t, sol71, label\u001b[38;5;241m=\u001b[39m\u001b[38;5;124m'\u001b[39m\u001b[38;5;124m$r=0.75$\u001b[39m\u001b[38;5;124m'\u001b[39m, color\u001b[38;5;241m=\u001b[39m\u001b[38;5;124m'\u001b[39m\u001b[38;5;124mblue\u001b[39m\u001b[38;5;124m'\u001b[39m)\n",
      "\u001b[0;31mNameError\u001b[0m: name 'sol91' is not defined"
     ]
    }
   ],
   "source": [
    "t = np.linspace(0, 200, 100)\n",
    "\n",
    "\n",
    "# Tracé des fonctions\n",
    "\n",
    "plt.plot(t, sol91, label='$r=0.9$', color='red')\n",
    "plt.plot(t, sol81, label='$r=0.85$', color='green')\n",
    "plt.plot(t, sol71, label='$r=0.75$', color='blue')\n",
    "plt.plot(t, sol51, label='$r=0.50$')\n",
    "\n",
    "# Légendes et titre\n",
    "plt.legend()\n",
    "plt.xlabel('t')\n",
    "plt.ylabel('l')\n",
    "plt.title('Mutation rate evolution')\n",
    "\n",
    "# Afficher le graphique\n",
    "plt.grid(True)\n",
    "plt.savefig(\"Different R.pdf\")\n",
    "plt.show()\n"
   ]
  },
  {
   "cell_type": "code",
   "execution_count": 54,
   "id": "597fd277-0fbe-4d33-8770-a97ebf2720b7",
   "metadata": {},
   "outputs": [
    {
     "data": {
      "text/latex": [
       "$\\displaystyle \\frac{0.0198 \\cdot \\left(0.882 - 0.98 m\\right) \\left(m - 0.9\\right)}{h + l + 3} + \\frac{0.019602 \\left(m - 0.9\\right)^{2}}{2 l + 3} + \\frac{0.001782}{2 l + 3} + \\frac{0.0099 \\cdot \\left(2 l + 1\\right) \\left(0.8 m - 0.72\\right)}{\\left(l + 1\\right) \\left(2 l + 3\\right)} - \\frac{0.000198 \\left(m - 0.9\\right)^{2}}{2 h + 3} - \\frac{0.001782}{2 h + 3} - \\frac{0.0099 \\cdot \\left(2 h + 1\\right) \\left(0.8 m - 0.72\\right)}{\\left(h + 1\\right) \\left(2 h + 3\\right)}$"
      ],
      "text/plain": [
       "0.0198*(0.882 - 0.98*m)*(m - 0.9)/(h + l + 3) + 0.019602*(m - 0.9)**2/(2*l + 3) + 0.001782/(2*l + 3) + 0.0099*(2*l + 1)*(0.8*m - 0.72)/((l + 1)*(2*l + 3)) - 0.000198*(m - 0.9)**2/(2*h + 3) - 0.001782/(2*h + 3) - 0.0099*(2*h + 1)*(0.8*m - 0.72)/((h + 1)*(2*h + 3))"
      ]
     },
     "execution_count": 54,
     "metadata": {},
     "output_type": "execute_result"
    }
   ],
   "source": [
    "XHm = G(0.01, 0.9, m,m, l, h)\n",
    "XHm"
   ]
  },
  {
   "cell_type": "code",
   "execution_count": 56,
   "id": "31edfa83-7acd-434d-b3aa-7bc638d56055",
   "metadata": {},
   "outputs": [
    {
     "name": "stdout",
     "output_type": "stream",
     "text": [
      "-0.0198*(0.882 - 0.98*m)*(m - 0.9)/(h + l + 3)**2 + 0.000396*(m - 0.9)**2/(2*h + 3)**2 + 0.003564/(2*h + 3)**2 + 0.0198*(2*h + 1)*(0.8*m - 0.72)/((h + 1)*(2*h + 3)**2) - 0.0198*(0.8*m - 0.72)/((h + 1)*(2*h + 3)) + 0.0099*(2*h + 1)*(0.8*m - 0.72)/((h + 1)**2*(2*h + 3))\n"
     ]
    }
   ],
   "source": [
    "dXHm_dh = diff(XHm, h)\n",
    "# Afficher le résultat\n",
    "print(dXHm_dh)"
   ]
  },
  {
   "cell_type": "code",
   "execution_count": 58,
   "id": "d30900de-1f05-4898-8eda-705e2ae1d74a",
   "metadata": {},
   "outputs": [
    {
     "name": "stdout",
     "output_type": "stream",
     "text": [
      "(0.0198*l + 0.0099)*(0.8*m - 0.72)/((l + 1)**2*(2*l + 3)) + (0.0396*l + 0.0198)*(0.8*m - 0.72)/((l + 1)*(2*l + 3)**2) + (0.019404*m - 0.0174636)*(m - 0.9)/(2*l + 3)**2 + 0.000396*(m - 0.9)**2/(2*l + 3)**2 + 0.003564/(2*l + 3)**2 - (0.01584*m - 0.014256)/((l + 1)*(2*l + 3))\n"
     ]
    }
   ],
   "source": [
    "def DXHm_dh(h,l):\n",
    "    return -0.0198*(0.882 - 0.98*m)*(m - 0.9)/(h + l + 3)**2 + 0.000396*(m - 0.9)**2/(2*h + 3)**2 + 0.003564/(2*h + 3)**2 + 0.0198*(2*h + 1)*(0.8*m - 0.72)/((h + 1)*(2*h + 3)**2) - 0.0198*(0.8*m - 0.72)/((h + 1)*(2*h + 3)) + 0.0099*(2*h + 1)*(0.8*m - 0.72)/((h + 1)**2*(2*h + 3)) \n",
    "dfm = DXHm_dh(l,l)\n",
    "print(dfm)"
   ]
  },
  {
   "cell_type": "code",
   "execution_count": 60,
   "id": "a4cc88d6-a06a-4cc9-8d74-1cf781107e1a",
   "metadata": {},
   "outputs": [],
   "source": [
    "\n",
    "# Define the differential equation\n",
    "def equation(l, t):\n",
    "    m=np.interp(l, DataPointsDomainh5, DataPointsRangex5, left=None, right=None, period=None)\n",
    "    # Define the derivative dy/dt\n",
    "    dldt = 1/2 *N* ((0.0198*l + 0.0099)*(0.8*m - 0.72)/((l + 1)**2*(2*l + 3)) + (0.0396*l + 0.0198)*(0.8*m - 0.72)/((l + 1)*(2*l + 3)**2) + (0.019404*m - 0.0174636)*(m - 0.9)/(2*l + 3)**2 + 0.000396*(m - 0.9)**2/(2*l + 3)**2 + 0.003564/(2*l + 3)**2 - (0.01584*m - 0.014256)/((l + 1)*(2*l + 3)))\n",
    "    return dldt\n",
    "\n",
    "# Define the initial condition\n",
    "l91 = 0\n",
    "l92 = 3\n",
    "l93 = 5\n",
    "# Define the time points for the solution\n",
    "t = np.linspace(0, 400, 100)\n",
    "\n",
    "# Solve the differential equation\n",
    "sol91 = odeint(equation, l91, t)\n",
    "sol92 = odeint(equation, l92, t)\n",
    "sol93 = odeint(equation, l93, t)\n",
    "\n"
   ]
  },
  {
   "cell_type": "code",
   "execution_count": 62,
   "id": "7c88f654-75ec-408e-986c-fe4b2d77dcf2",
   "metadata": {},
   "outputs": [
    {
     "data": {
      "image/png": "[encoded data removed]",
      "text/plain": [
       "<Figure size 432x288 with 1 Axes>"
      ]
     },
     "metadata": {
      "needs_background": "light"
     },
     "output_type": "display_data"
    }
   ],
   "source": [
    "\n",
    "\n",
    "t = np.linspace(0, 400, 100)\n",
    "\n",
    "\n",
    "# Tracé des fonctions\n",
    "\n",
    "plt.plot(t, sol93, label='$l_0=5$', color='red')\n",
    "plt.plot(t, sol92, label='$l_0=3$', color='green')\n",
    "plt.plot(t, sol91, label='$l_0=0$', color='blue')\n",
    "\n",
    "# Légendes et titre\n",
    "plt.legend()\n",
    "plt.xlabel(r'time $t$')\n",
    "plt.ylabel(r'$\\vartheta_l$')\n",
    "plt.title(r'Mutation rate evolution $\\vartheta_l$')\n",
    "\n",
    "# Afficher le graphique\n",
    "plt.grid(True)\n",
    "plt.savefig(\"Different l_0 equilibrium.pdf\")\n",
    "plt.show()\n"
   ]
  },
  {
   "cell_type": "code",
   "execution_count": 63,
   "id": "849fc876-b4de-42a8-b88c-ad61151ecb97",
   "metadata": {},
   "outputs": [
    {
     "data": {
      "image/png": "[encoded data removed]",
      "text/plain": [
       "<Figure size 792x360 with 3 Axes>"
      ]
     },
     "metadata": {
      "needs_background": "light"
     },
     "output_type": "display_data"
    }
   ],
   "source": [
    "fig,(ax1,ax3) = plt.subplots(1,2)\n",
    "fig.set_figheight(5)\n",
    "fig.set_figwidth(11)\n",
    "#ax2 = ax1.twinx()\n",
    "\n",
    "ax1.plot(t, sol91, label='$r=0.9$', color='red')\n",
    "ax1.plot(t, sol81, label='$r=0.85$', color='green')\n",
    "ax1.plot(t, sol71, label='$r=0.75$', color='blue')\n",
    "ax1.plot(t, sol51, label='$r=0.50$')\n",
    "\n",
    "A=ax3.contourf(P_grid1, R_grid1, f_grid_POS1, levels=20, cmap='coolwarm')\n",
    "fig.colorbar(A, ax=ax3, shrink=0.9)\n",
    "#.plot(t, sol2, label='$r=0.9$', color='blue')\n",
    "ax1.legend(['r=0.9','r=0.85','r=0.75','r=0.5'])\n",
    "\n",
    "ax3.set_xlabel('p')\n",
    "ax3.set_ylabel('r', color='black')\n",
    "\n",
    "ax1.set_xlabel('Time')\n",
    "ax1.set_ylabel('l', color='black')\n",
    "\n",
    "ax1.set_title('A.',loc='left') \n",
    "ax3.set_title('B.',loc='left') \n",
    "#ax4.set_yl\n",
    "#ax3.legend(['r=0.9'])\n",
    "ax1.grid(True)\n",
    "ax3.grid(True)\n",
    "plt.savefig(\"Different r normal.pdf\")"
   ]
  },
  {
   "cell_type": "code",
   "execution_count": 66,
   "id": "d0b473d3-7337-4084-a642-cafb87d4894e",
   "metadata": {},
   "outputs": [
    {
     "data": {
      "text/latex": [
       "$\\displaystyle \\frac{0.0099 \\cdot \\left(0.08 - 0.8 m\\right) \\left(2 l + 1\\right)}{\\left(l + 1\\right) \\left(2 l + 3\\right)} - \\frac{0.0099 \\cdot \\left(0.08 - 0.8 m\\right) \\left(2 h + 1\\right)}{\\left(h + 1\\right) \\left(2 h + 3\\right)} + \\frac{0.0198 \\cdot \\left(0.098 - 0.98 m\\right) \\left(m - 0.1\\right)}{h + l + 3} + \\frac{0.019602 \\left(m - 0.1\\right)^{2}}{2 l + 3} + \\frac{0.001782}{2 l + 3} - \\frac{0.000198 \\left(m - 0.1\\right)^{2}}{2 h + 3} - \\frac{0.001782}{2 h + 3}$"
      ],
      "text/plain": [
       "0.0099*(0.08 - 0.8*m)*(2*l + 1)/((l + 1)*(2*l + 3)) - 0.0099*(0.08 - 0.8*m)*(2*h + 1)/((h + 1)*(2*h + 3)) + 0.0198*(0.098 - 0.98*m)*(m - 0.1)/(h + l + 3) + 0.019602*(m - 0.1)**2/(2*l + 3) + 0.001782/(2*l + 3) - 0.000198*(m - 0.1)**2/(2*h + 3) - 0.001782/(2*h + 3)"
      ]
     },
     "execution_count": 66,
     "metadata": {},
     "output_type": "execute_result"
    }
   ],
   "source": [
    "XHm2 = G(0.01, 0.1, m,m, l, h)\n",
    "XHm2"
   ]
  },
  {
   "cell_type": "code",
   "execution_count": 68,
   "id": "561af53a-e064-47ed-9ee3-0f84ce1a3a23",
   "metadata": {},
   "outputs": [
    {
     "name": "stdout",
     "output_type": "stream",
     "text": [
      "0.0198*(0.08 - 0.8*m)*(2*h + 1)/((h + 1)*(2*h + 3)**2) - 0.0198*(0.08 - 0.8*m)/((h + 1)*(2*h + 3)) + 0.0099*(0.08 - 0.8*m)*(2*h + 1)/((h + 1)**2*(2*h + 3)) - 0.0198*(0.098 - 0.98*m)*(m - 0.1)/(h + l + 3)**2 + 0.000396*(m - 0.1)**2/(2*h + 3)**2 + 0.003564/(2*h + 3)**2\n"
     ]
    }
   ],
   "source": [
    "dXHm2_dh = diff(XHm2, h)\n",
    "# Afficher le résultat\n",
    "print(dXHm2_dh)"
   ]
  },
  {
   "cell_type": "code",
   "execution_count": 70,
   "id": "dca23076-2e24-489a-8d85-51510c55607a",
   "metadata": {},
   "outputs": [
    {
     "data": {
      "text/latex": [
       "$\\displaystyle \\frac{\\left(0.000792 - 0.00792 m\\right) \\left(2 h + 1\\right)}{\\left(h + 1\\right)^{2} \\cdot \\left(2 h + 3\\right)} + \\frac{\\left(0.001584 - 0.01584 m\\right) \\left(2 h + 1\\right)}{\\left(h + 1\\right) \\left(2 h + 3\\right)^{2}} - \\frac{0.001584 - 0.01584 m}{\\left(h + 1\\right) \\left(2 h + 3\\right)} - \\frac{\\left(0.0019404 - 0.019404 m\\right) \\left(m - 0.1\\right)}{\\left(h + l + 3\\right)^{2}} + \\frac{0.000396 \\left(m - 0.1\\right)^{2}}{\\left(2 h + 3\\right)^{2}} + \\frac{0.003564}{\\left(2 h + 3\\right)^{2}}$"
      ],
      "text/plain": [
       "(0.000792 - 0.00792*m)*(2*h + 1)/((h + 1)**2*(2*h + 3)) + (0.001584 - 0.01584*m)*(2*h + 1)/((h + 1)*(2*h + 3)**2) - (0.001584 - 0.01584*m)/((h + 1)*(2*h + 3)) - (0.0019404 - 0.019404*m)*(m - 0.1)/(h + l + 3)**2 + 0.000396*(m - 0.1)**2/(2*h + 3)**2 + 0.003564/(2*h + 3)**2"
      ]
     },
     "execution_count": 70,
     "metadata": {},
     "output_type": "execute_result"
    }
   ],
   "source": [
    "def DXHm2_dh(h,l):\n",
    "    return 0.0198*(0.08 - 0.8*m)*(2*h + 1)/((h + 1)*(2*h + 3)**2) - 0.0198*(0.08 - 0.8*m)/((h + 1)*(2*h + 3)) + 0.0099*(0.08 - 0.8*m)*(2*h + 1)/((h + 1)**2*(2*h + 3)) - 0.0198*(0.098 - 0.98*m)*(m - 0.1)/(h + l + 3)**2 + 0.000396*(m - 0.1)**2/(2*h + 3)**2 + 0.003564/(2*h + 3)**2\n",
    "DXHm2_dh(h,l)"
   ]
  },
  {
   "cell_type": "code",
   "execution_count": 72,
   "id": "0e44a368-c480-4916-a591-c82eb45f2e57",
   "metadata": {},
   "outputs": [
    {
     "name": "stdout",
     "output_type": "stream",
     "text": [
      "(0.000792 - 0.00792*m)*(2*l + 1)/((l + 1)**2*(2*l + 3)) + (0.001584 - 0.01584*m)*(2*l + 1)/((l + 1)*(2*l + 3)**2) - (0.001584 - 0.01584*m)/((l + 1)*(2*l + 3)) - (0.0019404 - 0.019404*m)*(m - 0.1)/(2*l + 3)**2 + 0.000396*(m - 0.1)**2/(2*l + 3)**2 + 0.003564/(2*l + 3)**2\n"
     ]
    }
   ],
   "source": [
    "dfm2 = DXHm2_dh(l,l)\n",
    "print(dfm2)"
   ]
  },
  {
   "cell_type": "code",
   "execution_count": 74,
   "id": "f45b1541-293f-4fd1-8ff4-7d8f6dbb290c",
   "metadata": {},
   "outputs": [
    {
     "data": {
      "image/png": "[encoded data removed]",
      "text/plain": [
       "<Figure size 432x288 with 1 Axes>"
      ]
     },
     "metadata": {
      "needs_background": "light"
     },
     "output_type": "display_data"
    }
   ],
   "source": [
    "\n",
    "# Define the differential equation\n",
    "def equation(l, t):\n",
    "    m=np.interp(l, DataPointsDomainh1, DataPointsRangex1, left=None, right=None, period=None)\n",
    "    # Define the derivative dy/dt\n",
    "    dldt = 1/2 *N* ((0.000792 - 0.00792*m)*(2*l + 1)/((l + 1)**2*(2*l + 3)) + (0.001584 - 0.01584*m)*(2*l + 1)/((l + 1)*(2*l + 3)**2) - (0.001584 - 0.01584*m)/((l + 1)*(2*l + 3)) - (0.0019404 - 0.019404*m)*(m - 0.1)/(2*l + 3)**2 + 0.000396*(m - 0.1)**2/(2*l + 3)**2 + 0.003564/(2*l + 3)**2)\n",
    "    return dldt\n",
    "\n",
    "# Define the initial condition\n",
    "l0 = 3\n",
    "\n",
    "# Define the time points for the solution\n",
    "t = np.linspace(0, 400, 100)\n",
    "\n",
    "# Solve the differential equation\n",
    "sol1 = odeint(equation, l0, t)\n",
    "\n",
    "# Plot the solution\n",
    "plt.plot(t, sol1)\n",
    "plt.xlabel('Time')\n",
    "plt.ylabel('l(t)')\n",
    "plt.title('Solution of the first-order differential equation')\n",
    "plt.grid(True)\n",
    "plt.show()"
   ]
  },
  {
   "cell_type": "code",
   "execution_count": 76,
   "id": "7f1f4501-9b94-4b17-a4e0-38c1d1dc08ff",
   "metadata": {},
   "outputs": [
    {
     "data": {
      "image/png": "[encoded data removed]",
      "text/plain": [
       "<Figure size 792x360 with 2 Axes>"
      ]
     },
     "metadata": {
      "needs_background": "light"
     },
     "output_type": "display_data"
    }
   ],
   "source": [
    "fig,(ax1,ax3) = plt.subplots(1,2)\n",
    "fig.set_figheight(5)\n",
    "fig.set_figwidth(11)\n",
    "#ax2 = ax1.twinx()\n",
    "ax1.plot(t, sol1, label='$r=0.1$', color='green')\n",
    "ax3.plot(t, sol92, label='$r=0.9$', color='blue')\n",
    "ax1.legend(['r=0.1'])\n",
    "ax3.legend(['r=0.9'])\n",
    "\n",
    "ax3.set_xlabel('Time')\n",
    "ax3.set_ylabel('l', color='black')\n",
    "\n",
    "ax1.set_xlabel('Time')\n",
    "ax1.set_ylabel('l', color='black')\n",
    "\n",
    "ax1.set_title('A.',loc='left') \n",
    "ax3.set_title('B.',loc='left') \n",
    "ax1.grid(True)\n",
    "ax3.grid(True)\n",
    "plt.savefig(\"Different r Symetry.pdf\")"
   ]
  },
  {
   "cell_type": "code",
   "execution_count": 78,
   "id": "b3763da8-8a48-4a57-bf2a-a1c0f19eb85b",
   "metadata": {},
   "outputs": [
    {
     "name": "stdout",
     "output_type": "stream",
     "text": [
      "0.0198*(-0.75*h - 0.375)/((h + 1)*(2*h + 3)**2) + 0.0099*(-0.75*h - 0.375)/((h + 1)**2*(2*h + 3)) - 0.0198*(0.735*m - 0.55125)/(h + l + 3)**2 + 0.00764775/(2*h + 3)**2 + 0.007425/((h + 1)*(2*h + 3))\n",
      "-0.0198*(0.18375 - 0.245*m)/(h + l + 3)**2 + 0.0198*(0.25*h + 0.125)/((h + 1)*(2*h + 3)**2) + 0.0099*(0.25*h + 0.125)/((h + 1)**2*(2*h + 3)) + 0.00744975/(2*h + 3)**2 - 0.002475/((h + 1)*(2*h + 3))\n"
     ]
    }
   ],
   "source": [
    "f0=G(0.01, 0.75, 0,m, l, h)\n",
    "f1=G(0.01, 0.75, 1,m, l, h)\n",
    "df0=diff(f0,h)\n",
    "df1=diff(f1,h)\n",
    "print(df0)\n",
    "print(df1)"
   ]
  },
  {
   "cell_type": "code",
   "execution_count": 80,
   "id": "cdc66bdc-055c-4457-91aa-847360d8a11f",
   "metadata": {},
   "outputs": [
    {
     "data": {
      "text/latex": [
       "$\\displaystyle \\frac{- 0.01485 h - 0.007425}{\\left(h + 1\\right) \\left(2 h + 3\\right)^{2}} + \\frac{- 0.007425 h - 0.0037125}{\\left(h + 1\\right)^{2} \\cdot \\left(2 h + 3\\right)} - \\frac{0.014553 m - 0.01091475}{\\left(h + l + 3\\right)^{2}} + \\frac{0.00764775}{\\left(2 h + 3\\right)^{2}} + \\frac{0.007425}{\\left(h + 1\\right) \\left(2 h + 3\\right)}$"
      ],
      "text/plain": [
       "(-0.01485*h - 0.007425)/((h + 1)*(2*h + 3)**2) + (-0.007425*h - 0.0037125)/((h + 1)**2*(2*h + 3)) - (0.014553*m - 0.01091475)/(h + l + 3)**2 + 0.00764775/(2*h + 3)**2 + 0.007425/((h + 1)*(2*h + 3))"
      ]
     },
     "execution_count": 80,
     "metadata": {},
     "output_type": "execute_result"
    }
   ],
   "source": [
    "def Df0(h,l):\n",
    "    return 0.0198*(-0.75*h - 0.375)/((h + 1)*(2*h + 3)**2) + 0.0099*(-0.75*h - 0.375)/((h + 1)**2*(2*h + 3)) - 0.0198*(0.735*m - 0.55125)/(h + l + 3)**2 + 0.00764775/(2*h + 3)**2 + 0.007425/((h + 1)*(2*h + 3))\n",
    "Df0(h,l)"
   ]
  },
  {
   "cell_type": "code",
   "execution_count": 82,
   "id": "35642647-f296-465b-b9a1-15e7170cba68",
   "metadata": {},
   "outputs": [
    {
     "data": {
      "text/latex": [
       "$\\displaystyle \\frac{0.002475 h + 0.0012375}{\\left(h + 1\\right)^{2} \\cdot \\left(2 h + 3\\right)} + \\frac{0.00495 h + 0.002475}{\\left(h + 1\\right) \\left(2 h + 3\\right)^{2}} + \\frac{0.004851 m - 0.00363825}{\\left(h + l + 3\\right)^{2}} + \\frac{0.00744975}{\\left(2 h + 3\\right)^{2}} - \\frac{0.002475}{\\left(h + 1\\right) \\left(2 h + 3\\right)}$"
      ],
      "text/plain": [
       "(0.002475*h + 0.0012375)/((h + 1)**2*(2*h + 3)) + (0.00495*h + 0.002475)/((h + 1)*(2*h + 3)**2) + (0.004851*m - 0.00363825)/(h + l + 3)**2 + 0.00744975/(2*h + 3)**2 - 0.002475/((h + 1)*(2*h + 3))"
      ]
     },
     "execution_count": 82,
     "metadata": {},
     "output_type": "execute_result"
    }
   ],
   "source": [
    "def Df1(h,l):\n",
    "    return -0.0198*(0.18375 - 0.245*m)/(h + l + 3)**2 + 0.0198*(0.25*h + 0.125)/((h + 1)*(2*h + 3)**2) + 0.0099*(0.25*h + 0.125)/((h + 1)**2*(2*h + 3)) + 0.00744975/(2*h + 3)**2 - 0.002475/((h + 1)*(2*h + 3))\n",
    "Df1(h,l)"
   ]
  },
  {
   "cell_type": "code",
   "execution_count": 84,
   "id": "814d90e1-ed12-4046-8fef-cf05e7f6d6cb",
   "metadata": {},
   "outputs": [],
   "source": [
    "DF0=Df0(l,l)\n",
    "DF1=Df1(l,l)"
   ]
  },
  {
   "cell_type": "code",
   "execution_count": 86,
   "id": "82505ed4-6d6b-481e-b58f-02a4a7aa5cee",
   "metadata": {},
   "outputs": [
    {
     "name": "stdout",
     "output_type": "stream",
     "text": [
      "m*((-0.01485*l - 0.007425)/((l + 1)*(2*l + 3)**2) + (-0.007425*l - 0.0037125)/((l + 1)**2*(2*l + 3)) - (0.014553*m - 0.01091475)/(2*l + 3)**2 + 0.00764775/(2*l + 3)**2 + 0.007425/((l + 1)*(2*l + 3))) + (1 - m)*((0.002475*l + 0.0012375)/((l + 1)**2*(2*l + 3)) + (0.00495*l + 0.002475)/((l + 1)*(2*l + 3)**2) + (0.004851*m - 0.00363825)/(2*l + 3)**2 + 0.00744975/(2*l + 3)**2 - 0.002475/((l + 1)*(2*l + 3)))\n"
     ]
    }
   ],
   "source": [
    "DF = m*Df0(l,l)+(1-m)*Df1(l,l)\n",
    "print(DF)"
   ]
  },
  {
   "cell_type": "code",
   "execution_count": 88,
   "id": "527e484d-7059-419b-8683-e6cd32cacadc",
   "metadata": {},
   "outputs": [
    {
     "data": {
      "image/png": "[encoded data removed]",
      "text/plain": [
       "<Figure size 432x288 with 1 Axes>"
      ]
     },
     "metadata": {
      "needs_background": "light"
     },
     "output_type": "display_data"
    }
   ],
   "source": [
    "# Define the differential equation\n",
    "def equation(l, t):\n",
    "    m=np.interp(l, DataPointsDomainh3, DataPointsRangex3, left=None, right=None, period=None)\n",
    "    # Define the derivative dy/dt\n",
    "    dldt = 1/2 *N* (m*((-0.01485*l - 0.007425)/((l + 1)*(2*l + 3)**2) + (-0.007425*l - 0.0037125)/((l + 1)**2*(2*l + 3)) - (0.014553*m - 0.01091475)/(2*l + 3)**2 + 0.00764775/(2*l + 3)**2 + 0.007425/((l + 1)*(2*l + 3))) + (1 - m)*((0.002475*l + 0.0012375)/((l + 1)**2*(2*l + 3)) + (0.00495*l + 0.002475)/((l + 1)*(2*l + 3)**2) + (0.004851*m - 0.00363825)/(2*l + 3)**2 + 0.00744975/(2*l + 3)**2 - 0.002475/((l + 1)*(2*l + 3))))\n",
    "    return dldt\n",
    "\n",
    "# Define the initial condition\n",
    "l0 = 0\n",
    "l02 = 6\n",
    "\n",
    "# Define the time points for the solution\n",
    "t = np.linspace(0, 1000, 100)\n",
    "\n",
    "# Solve the differential equation\n",
    "sol71 = odeint(equation, l0, t)\n",
    "sol72 = odeint(equation, l02, t)\n",
    "\n",
    "# Plot the solution\n",
    "plt.plot(t, sol71)\n",
    "plt.plot(t, sol72)\n",
    "plt.xlabel('Time')\n",
    "plt.ylabel('l(t)')\n",
    "plt.title('Solution of the first-order differential equation')\n",
    "plt.grid(True)\n",
    "plt.show()"
   ]
  },
  {
   "cell_type": "code",
   "execution_count": 90,
   "id": "28a100f4-3eca-4479-b120-5128b3ae73e1",
   "metadata": {},
   "outputs": [
    {
     "name": "stdout",
     "output_type": "stream",
     "text": [
      "Collecting package metadata (current_repodata.json): done\n",
      "Solving environment: done\n",
      "\n",
      "\n",
      "==> WARNING: A newer version of conda exists. <==\n",
      "  current version: 23.3.1\n",
      "  latest version: 23.7.3\n",
      "\n",
      "Please update conda by running\n",
      "\n",
      "    $ conda update -n base -c defaults conda\n",
      "\n",
      "Or to minimize the number of packages updated during conda update use\n",
      "\n",
      "     conda install conda=23.7.3\n",
      "\n",
      "\n",
      "\n",
      "# All requested packages already installed.\n",
      "\n",
      "\n",
      "Note: you may need to restart the kernel to use updated packages.\n"
     ]
    }
   ],
   "source": [
    "conda install nbconvert"
   ]
  },
  {
   "cell_type": "code",
   "execution_count": null,
   "id": "dffab403-25e0-4fff-a6b2-6a399a8e4dba",
   "metadata": {},
   "outputs": [],
   "source": [
    "jupyter nbconvert --evolution_l.ipynb"
   ]
  },
  {
   "cell_type": "code",
   "execution_count": null,
   "id": "365f5351-0aaf-403f-b801-cd1d9814a625",
   "metadata": {},
   "outputs": [],
   "source": [
    "import numpy as np\n",
    "import matplotlib.pyplot as plt\n",
    "\n",
    "t = np.linspace(0, 1000, 100)\n",
    "\n",
    "\n",
    "# Tracé des fonctions\n",
    "\n",
    "plt.plot(t, sol71, label='$l_0=0$', color='red')\n",
    "plt.plot(t, sol72, label='$l_0=6$', color='green')\n",
    "\n",
    "\n",
    "# Légendes et titre\n",
    "plt.legend()\n",
    "plt.xlabel(r'time $t$')\n",
    "plt.ylabel(r'$\\vartheta_l$')\n",
    "plt.title(r'Mutation rate evolution $\\vartheta_l$')\n",
    "\n",
    "# Afficher le graphique\n",
    "plt.grid(True)\n",
    "plt.savefig(\"Different l_02.pdf\")\n",
    "plt.show()"
   ]
  },
  {
   "cell_type": "code",
   "execution_count": null,
   "id": "5cd3bc21-8b0a-4f1d-99fc-49e79e66a29a",
   "metadata": {},
   "outputs": [],
   "source": [
    "f09=G(0.01, 0.9, 0,m, l, h)\n",
    "f19=G(0.01, 0.9, 1,m, l, h)\n",
    "df09=diff(f09,h)\n",
    "df19=diff(f19,h)\n",
    "#print(df09)\n",
    "print(df19)"
   ]
  },
  {
   "cell_type": "code",
   "execution_count": null,
   "id": "d1d52225-3b7b-4e22-a841-4f2eed8de16a",
   "metadata": {},
   "outputs": [],
   "source": [
    "def Df09(h,l):\n",
    "    return  0.0198*(-1.44*h - 0.72)/((h + 1)*(2*h + 3)**2) + 0.0099*(-1.44*h - 0.72)/((h + 1)**2*(2*h + 3)) - 0.0198*(0.882*m - 0.7938)/(h + l + 3)**2 + 0.00388476/(2*h + 3)**2 + 0.014256/((h + 1)*(2*h + 3))\n",
    "\n",
    "def Df19(h,l):\n",
    "    return  -0.0198*(0.0882 - 0.098*m)/(h + l + 3)**2 + 0.0198*(0.16*h + 0.08)/((h + 1)*(2*h + 3)**2) + 0.0099*(0.16*h + 0.08)/((h + 1)**2*(2*h + 3)) + 0.00356796/(2*h + 3)**2 - 0.001584/((h + 1)*(2*h + 3))"
   ]
  },
  {
   "cell_type": "code",
   "execution_count": null,
   "id": "bd290f8e-93bd-4926-8a39-fe21ffdacc3a",
   "metadata": {},
   "outputs": [],
   "source": [
    "DF09=Df09(l,l)\n",
    "DF19=Df19(l,l)\n",
    "DF9 = (1-m)*Df09(l,l)+m*Df19(l,l)\n",
    "print(DF9)"
   ]
  },
  {
   "cell_type": "code",
   "execution_count": null,
   "id": "7e1fa534-c998-4488-a961-1990a90b5758",
   "metadata": {},
   "outputs": [],
   "source": [
    "# Define the differential equation\n",
    "def equation(l, t):\n",
    "    m=np.interp(l, DataPointsDomainh5, DataPointsRangex5, left=None, right=None, period=None)\n",
    "    # Define the derivative dy/dt\n",
    "    dldt = 1/2 *N*(m*((0.001584*l + 0.000792)/((l + 1)**2*(2*l + 3)) + (0.003168*l + 0.001584)/((l + 1)*(2*l + 3)**2) + (0.0019404*m - 0.00174636)/(2*l + 3)**2 + 0.00356796/(2*l + 3)**2 - 0.001584/((l + 1)*(2*l + 3))) + (1 - m)*((-0.028512*l - 0.014256)/((l + 1)*(2*l + 3)**2) + (-0.014256*l - 0.007128)/((l + 1)**2*(2*l + 3)) - (0.0174636*m - 0.01571724)/(2*l + 3)**2 + 0.00388476/(2*l + 3)**2 + 0.014256/((l + 1)*(2*l + 3))))\n",
    "    return dldt\n",
    "\n",
    "# Define the initial condition\n",
    "l0911 = 0\n",
    "l0922 = 3\n",
    "l0933 = 5\n",
    "\n",
    "# Define the time points for the solution\n",
    "t = np.linspace(0, 500, 100)\n",
    "\n",
    "# Solve the differential equation\n",
    "sol911 = odeint(equation, l0911, t)\n",
    "sol922 = odeint(equation, l0922, t)\n",
    "sol933 = odeint(equation, l0933, t)\n",
    "\n",
    "\n",
    "# Plot the solution\n",
    "plt.plot(t, sol911, label='$l_0=0$', color='green')\n",
    "plt.plot(t, sol922, label='$l_0=3$', color='blue')\n",
    "plt.plot(t, sol933, label='$l_0=5$', color='red')\n",
    "plt.xlabel('Time  (t)')\n",
    "plt.ylabel('l(t)')\n",
    "plt.title('Evolution of mutation rate ')\n",
    "plt.grid(True)\n",
    "plt.savefig(\"REMARK.pdf\")\n",
    "plt.show()\n"
   ]
  },
  {
   "cell_type": "code",
   "execution_count": null,
   "id": "1e429643-ad1b-4929-b860-03cac74405ef",
   "metadata": {},
   "outputs": [],
   "source": []
  },
  {
   "cell_type": "code",
   "execution_count": null,
   "id": "641380fb-b679-4ad6-b6dc-4aff6761473a",
   "metadata": {},
   "outputs": [],
   "source": []
  }
 ],
 "metadata": {
  "kernelspec": {
   "display_name": "anaconda-2022.05-py39",
   "language": "python",
   "name": "conda-env-anaconda-2022.05-py39-py"
  },
  "language_info": {
   "codemirror_mode": {
    "name": "ipython",
    "version": 3
   },
   "file_extension": ".py",
   "mimetype": "text/x-python",
   "name": "python",
   "nbconvert_exporter": "python",
   "pygments_lexer": "ipython3",
   "version": "3.9.12"
  }
 },
 "nbformat": 4,
 "nbformat_minor": 5
}
